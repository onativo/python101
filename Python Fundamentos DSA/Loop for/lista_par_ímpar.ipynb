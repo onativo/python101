{
  "nbformat": 4,
  "nbformat_minor": 0,
  "metadata": {
    "colab": {
      "name": "lista par-ímpar.ipynb",
      "provenance": [],
      "collapsed_sections": []
    },
    "kernelspec": {
      "name": "python3",
      "display_name": "Python 3"
    },
    "language_info": {
      "name": "python"
    }
  },
  "cells": [
    {
      "cell_type": "markdown",
      "metadata": {
        "id": "opAveIeVTEon"
      },
      "source": [
        "##Loops, Condicionais, Métodos e Funções"
      ]
    },
    {
      "cell_type": "markdown",
      "metadata": {
        "id": "MV9n5kHqUuMl"
      },
      "source": [
        "Condicional If"
      ]
    },
    {
      "cell_type": "code",
      "metadata": {
        "colab": {
          "base_uri": "https://localhost:8080/"
        },
        "id": "iAjOfsPQTHfP",
        "outputId": "9a737493-8f6b-429d-827c-c4f7a0854b25"
      },
      "source": [
        "if 5 < 2:\n",
        "  print('ola mundo')\n",
        "else:\n",
        "  print('mundo vazio')"
      ],
      "execution_count": 3,
      "outputs": [
        {
          "output_type": "stream",
          "name": "stdout",
          "text": [
            "mundo vazio\n"
          ]
        }
      ]
    },
    {
      "cell_type": "code",
      "metadata": {
        "colab": {
          "base_uri": "https://localhost:8080/"
        },
        "id": "kM1B5hXLccGB",
        "outputId": "632e6d39-82d7-43d4-d63b-0742db6b55d3"
      },
      "source": [
        "from time import sleep\n",
        "tupla = (1, 2, 'abacaxi', 3.5)\n",
        "for i in tupla:\n",
        "  print(i)\n",
        "  sleep(0.5)\n",
        "  print('Tick')\n",
        "  sleep(1)\n",
        "  print('Tock')\n",
        "  sleep(0.5)"
      ],
      "execution_count": 13,
      "outputs": [
        {
          "output_type": "stream",
          "name": "stdout",
          "text": [
            "1\n",
            "Tick\n",
            "Tock\n",
            "2\n",
            "Tick\n",
            "Tock\n",
            "abacaxi\n",
            "Tick\n",
            "Tock\n",
            "3.5\n",
            "Tick\n",
            "Tock\n"
          ]
        }
      ]
    },
    {
      "cell_type": "markdown",
      "metadata": {
        "id": "tjfGffTIicat"
      },
      "source": [
        "##Loop For"
      ]
    },
    {
      "cell_type": "code",
      "metadata": {
        "colab": {
          "base_uri": "https://localhost:8080/"
        },
        "id": "BFg5xjW8gfRd",
        "outputId": "9b9d7efc-e54e-4446-fec3-ecb5931542cc"
      },
      "source": [
        "lista = [] #cria uma lista vazia\n",
        "lista_par = [] #cria uma lista para números pares\n",
        "lista_impar = [] #cria uma lista para números ímpares\n",
        "for c in range (1, 21): #cria um range entre 1 e 21\n",
        "  lista.append(c) #adiciona os itens numa lista\n",
        "for num in lista: #verifica os itens da lista\n",
        "  if num % 2 == 0: #se o numero for par\n",
        "    lista_par.append(num) #adiciona na lista par\n",
        "  else:\n",
        "    lista_impar.append(num) #se o numero for ímpar,adiciona na lista ímpar\n",
        "print('Lista par = ', lista_par)\n",
        "print('Lista ímpar = ', lista_impar)"
      ],
      "execution_count": 36,
      "outputs": [
        {
          "output_type": "stream",
          "name": "stdout",
          "text": [
            "Lista par =  [2, 4, 6, 8, 10, 12, 14, 16, 18, 20]\n",
            "Lista ímpar =  [1, 3, 5, 7, 9, 11, 13, 15, 17, 19]\n"
          ]
        }
      ]
    }
  ]
}